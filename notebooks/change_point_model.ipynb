{
 "cells": [
  {
   "cell_type": "markdown",
   "metadata": {
    "colab_type": "text",
    "id": "view-in-github"
   },
   "source": [
    "<a href=\"https://colab.research.google.com/github/lhiwi/brent-oil-changepoint-analysis/blob/task-2/change_point_model.ipynb\" target=\"_parent\"><img src=\"https://colab.research.google.com/assets/colab-badge.svg\" alt=\"Open In Colab\"/></a>"
   ]
  },
  {
   "cell_type": "markdown",
   "metadata": {
    "id": "v10KiucwB2AS"
   },
   "source": [
    "EDA and Model Implementation"
   ]
  },
  {
   "cell_type": "code",
   "execution_count": null,
   "metadata": {
    "colab": {
     "base_uri": "https://localhost:8080/"
    },
    "id": "OsoFwI8xHqFI",
    "outputId": "bd60de29-8287-49e9-ff24-1a0fc6fe5008"
   },
   "outputs": [],
   "source": [
    "!pip uninstall -y pymc3 theano"
   ]
  },
  {
   "cell_type": "code",
   "execution_count": null,
   "metadata": {
    "id": "zqX29q7HEgt2"
   },
   "outputs": [],
   "source": [
    "!pip install --quiet pymc arviz"
   ]
  },
  {
   "cell_type": "code",
   "execution_count": null,
   "metadata": {
    "id": "ZP_kZ61UAE16"
   },
   "outputs": [],
   "source": [
    "# import libraries\n",
    "import pymc as pm\n",
    "import arviz as az\n",
    "import pandas as pd\n",
    "import numpy as np\n",
    "import matplotlib.pyplot as plt\n"
   ]
  },
  {
   "cell_type": "markdown",
   "metadata": {
    "id": "zFlvECOJMKOO"
   },
   "source": [
    "# Part 2.1 – Core Analysis"
   ]
  },
  {
   "cell_type": "code",
   "execution_count": null,
   "metadata": {
    "colab": {
     "base_uri": "https://localhost:8080/",
     "height": 206
    },
    "id": "iQoXmYl6BemV",
    "outputId": "82cf1c32-51cc-471b-e93b-b13ece554cc0"
   },
   "outputs": [],
   "source": [
    "# load and prepare data\n",
    "df = pd.read_csv('/content/drive/MyDrive/BrentOilPrices.csv')\n",
    "\n",
    "# Convert Date column to datetime — auto-detect mixed formats\n",
    "df['Date'] = pd.to_datetime(df['Date'], format='mixed', dayfirst=True)\n",
    "\n",
    "df.sort_values('Date', inplace=True)\n",
    "df.reset_index(drop=True, inplace=True)\n",
    "\n",
    "df.head()\n"
   ]
  },
  {
   "cell_type": "markdown",
   "metadata": {
    "id": "hNU1xg0mMWk0"
   },
   "source": [
    "# Visualize the Price and Compute Log Returns\n"
   ]
  },
  {
   "cell_type": "code",
   "execution_count": null,
   "metadata": {
    "colab": {
     "base_uri": "https://localhost:8080/",
     "height": 957
    },
    "id": "ICNMG_EoEMa6",
    "outputId": "ccba0161-af3f-493c-e762-90ec2cb6b5f4"
   },
   "outputs": [],
   "source": [
    "# Plot Raw Prices\n",
    "plt.figure(figsize=(14, 5))\n",
    "plt.plot(df['Date'], df['Price'])\n",
    "plt.title('Brent Oil Prices (USD/barrel)')\n",
    "plt.xlabel('Date')\n",
    "plt.ylabel('Price')\n",
    "plt.grid(True)\n",
    "plt.show()\n",
    "\n",
    "# Compute log returns\n",
    "df['log_return'] = np.log(df['Price']) - np.log(df['Price'].shift(1))\n",
    "\n",
    "# Plot Log Returns\n",
    "plt.figure(figsize=(14, 5))\n",
    "plt.plot(df['Date'], df['log_return'])\n",
    "plt.title('Log Returns of Brent Oil Prices')\n",
    "plt.xlabel('Date')\n",
    "plt.ylabel('Log Return')\n",
    "plt.grid(True)\n",
    "plt.show()\n",
    "\n",
    "# Drop NaNs created by shift\n",
    "df = df.dropna()\n"
   ]
  },
  {
   "cell_type": "markdown",
   "metadata": {
    "id": "ZzLSPt70Ic4i"
   },
   "source": [
    "# Bayesian Change Point Model (PyMC3)"
   ]
  },
  {
   "cell_type": "code",
   "execution_count": null,
   "metadata": {
    "colab": {
     "base_uri": "https://localhost:8080/",
     "height": 198,
     "referenced_widgets": [
      "c04d7b1c62824b129cad7f5518f8ea66",
      "4266aa54cb7d43fc94178a6266601f10"
     ]
    },
    "id": "iIrYSm8_EVyd",
    "outputId": "297fe21a-c5fe-450a-c6ef-4c1975c65c45"
   },
   "outputs": [],
   "source": [
    "log_returns = df['log_return'].values\n",
    "n = len(log_returns)\n",
    "\n",
    "with pm.Model() as model:\n",
    "    # Prior for the change point\n",
    "    tau = pm.DiscreteUniform('tau', lower=0, upper=n-1)\n",
    "\n",
    "    # Priors for mean and std before/after\n",
    "    mu1 = pm.Normal('mu1', mu=0, sigma=1)\n",
    "    mu2 = pm.Normal('mu2', mu=0, sigma=1)\n",
    "    sigma = pm.HalfNormal('sigma', sigma=1)\n",
    "\n",
    "    # Switch logic\n",
    "    mu = pm.math.switch(tau >= np.arange(n), mu1, mu2)\n",
    "\n",
    "    # Likelihood\n",
    "    obs = pm.Normal('obs', mu=mu, sigma=sigma, observed=log_returns)\n",
    "\n",
    "    # Inference\n",
    "    trace = pm.sample(2000, tune=1000, target_accept=0.95, return_inferencedata=True)\n"
   ]
  },
  {
   "cell_type": "markdown",
   "metadata": {
    "id": "r4e07dsXIehP"
   },
   "source": [
    "# Analyze and Interpret the Model Output"
   ]
  },
  {
   "cell_type": "code",
   "execution_count": null,
   "metadata": {
    "colab": {
     "base_uri": "https://localhost:8080/",
     "height": 1000
    },
    "id": "PHERkrQ7IVLi",
    "outputId": "1cc03af2-a2bf-4476-ef0a-b835f178bd06"
   },
   "outputs": [],
   "source": [
    "# Trace plots show how well the model sampled\n",
    "az.plot_trace(trace, var_names=['tau', 'mu1', 'mu2'])\n",
    "plt.show()\n",
    "\n",
    "# Posterior distribution of change point\n",
    "az.plot_posterior(trace, var_names=['tau'])\n"
   ]
  },
  {
   "cell_type": "markdown",
   "metadata": {
    "id": "8bwahYpVLmnd"
   },
   "source": [
    "# Identify the Change Point Date"
   ]
  },
  {
   "cell_type": "code",
   "execution_count": null,
   "metadata": {
    "colab": {
     "base_uri": "https://localhost:8080/"
    },
    "id": "-Srs2JXHLjsL",
    "outputId": "ad359d05-25e8-4174-98c7-7f2b25610a55"
   },
   "outputs": [],
   "source": [
    "# Get most probable change point\n",
    "tau_samples = trace.posterior['tau'].values.flatten()\n",
    "tau_mode = np.bincount(tau_samples).argmax()\n",
    "\n",
    "change_date = df.iloc[tau_mode]['Date']\n",
    "print(f\"Most probable change point date: {change_date}\")"
   ]
  },
  {
   "cell_type": "markdown",
   "metadata": {
    "id": "RB87JBpUIrmv"
   },
   "source": [
    "# Quantifying Impact"
   ]
  },
  {
   "cell_type": "code",
   "execution_count": null,
   "metadata": {
    "colab": {
     "base_uri": "https://localhost:8080/"
    },
    "id": "J_nH_xyHIk0E",
    "outputId": "ff207a50-1518-432c-f5cb-aa015290ccb8"
   },
   "outputs": [],
   "source": [
    "mu1_samples = trace.posterior['mu1'].values.flatten()\n",
    "mu2_samples = trace.posterior['mu2'].values.flatten()\n",
    "\n",
    "mean_before = np.mean(mu1_samples)\n",
    "mean_after = np.mean(mu2_samples)\n",
    "\n",
    "percent_change = ((mean_after - mean_before) / abs(mean_before)) * 100\n",
    "print(f\"Mean log return shifted from {mean_before:.5f} to {mean_after:.5f}, a change of {percent_change:.2f}%\")\n"
   ]
  },
  {
   "cell_type": "markdown",
   "metadata": {
    "id": "O8jsRy0kJKC0"
   },
   "source": [
    "# Compare with Real-World Events"
   ]
  },
  {
   "cell_type": "code",
   "execution_count": null,
   "metadata": {
    "colab": {
     "base_uri": "https://localhost:8080/",
     "height": 80
    },
    "id": "_itjgzt6Iyki",
    "outputId": "1be34d5d-be87-46e7-ce73-d76ab0b8dc94"
   },
   "outputs": [],
   "source": [
    "# Load manually compiled event list\n",
    "events_df = pd.read_csv('/content/drive/MyDrive/events_data.csv')\n",
    "events_df['Event Date'] = pd.to_datetime(events_df['Event Date'])\n",
    "\n",
    "# Find closest event\n",
    "events_df['days_diff'] = abs(events_df['Event Date'] - change_date)\n",
    "events_df.sort_values('days_diff').head(1)\n"
   ]
  }
 ],
 "metadata": {
  "colab": {
   "authorship_tag": "ABX9TyOz1sz5lB6iA+JM1MiDJ3hH",
   "include_colab_link": true,
   "mount_file_id": "15-7kTc5K44CbgTOKcJ_Ggkhj0lqwYPBh",
   "provenance": []
  },
  "kernelspec": {
   "display_name": "Python 3",
   "name": "python3"
  },
  "language_info": {
   "name": "python"
  }
 },
 "nbformat": 4,
 "nbformat_minor": 0
}
